{
 "cells": [
  {
   "cell_type": "code",
   "execution_count": 20,
   "id": "250b1e50-da2c-4a42-ac89-eb421efc349c",
   "metadata": {},
   "outputs": [
    {
     "name": "stdout",
     "output_type": "stream",
     "text": [
      "[2, 10, 14, 22, 26, 34, 38]\n"
     ]
    }
   ],
   "source": [
    "\n",
    "squares=[i*2 for i in range(20) if i%2!=0 and i%3 !=0]\n",
    "print(squares)"
   ]
  },
  {
   "cell_type": "code",
   "execution_count": 24,
   "id": "8a6f7705-d01b-495e-8402-6b3ea67d7a52",
   "metadata": {},
   "outputs": [
    {
     "name": "stdout",
     "output_type": "stream",
     "text": [
      "Numbers:5 5 3\n"
     ]
    }
   ],
   "source": [
    "nums = [4,5,3,6]\n",
    "\n",
    "msg= \"Numbers:{0} {1} {2}\".format(nums[1],nums[1],nums[2])\n",
    "print(msg)"
   ]
  },
  {
   "cell_type": "code",
   "execution_count": 27,
   "id": "e56d957b-903d-484c-a134-ddf46607a13b",
   "metadata": {},
   "outputs": [
    {
     "name": "stdout",
     "output_type": "stream",
     "text": [
      "ab...so...lute\n"
     ]
    }
   ],
   "source": [
    "print(\"...\".join([\"ab\",\"so\",\"lute\"]))"
   ]
  },
  {
   "cell_type": "code",
   "execution_count": 29,
   "id": "6fc587b4-54a9-41d1-9d57-240409b37a0e",
   "metadata": {},
   "outputs": [
    {
     "name": "stdout",
     "output_type": "stream",
     "text": [
      "MY World\n"
     ]
    }
   ],
   "source": [
    "print(\"MY Hello\".replace(\"Hello\", \"World\"))\n",
    "      "
   ]
  },
  {
   "cell_type": "code",
   "execution_count": 39,
   "id": "a7cce577-a09e-4754-9966-f04452873f12",
   "metadata": {},
   "outputs": [
    {
     "name": "stdout",
     "output_type": "stream",
     "text": [
      "spam\n"
     ]
    }
   ],
   "source": [
    "food = \"spam,eggs,ham\".split(',')\n",
    "\n",
    "print(food[0])"
   ]
  },
  {
   "cell_type": "code",
   "execution_count": 67,
   "id": "9bcb415a-ca7a-421b-a06a-bfcd69f5a54e",
   "metadata": {},
   "outputs": [
    {
     "name": "stdin",
     "output_type": "stream",
     "text": [
      "How many trials do you need to guess the correct number :) 3\n",
      "Please enter your guess between 1 and 100 : 20\n"
     ]
    },
    {
     "name": "stdout",
     "output_type": "stream",
     "text": [
      "20 is to high!\n"
     ]
    },
    {
     "name": "stdin",
     "output_type": "stream",
     "text": [
      "Please enter your guess between 1 and 100 : 10\n"
     ]
    },
    {
     "name": "stdout",
     "output_type": "stream",
     "text": [
      "10 is too low!\n"
     ]
    },
    {
     "name": "stdin",
     "output_type": "stream",
     "text": [
      "Please enter your guess between 1 and 100 : 23\n"
     ]
    },
    {
     "name": "stdout",
     "output_type": "stream",
     "text": [
      " No attempts left, 3 trials as chosen have been exhausted\n"
     ]
    }
   ],
   "source": [
    "import random\n",
    "\n",
    "tries= 0\n",
    "lower_bound = 1\n",
    "upper_bound = 100\n",
    "trials = int(input(\"How many trials do you need to guess the correct number :)\"))\n",
    "\n",
    "correct_guess = random.randint(lower_bound, upper_bound)\n",
    "\n",
    "\n",
    "\n",
    "for attempt in range(trials):\n",
    "    tries = attempt++1\n",
    "    guess = int(input(f\"Please enter your guess between 1 and {upper_bound} :\"))\n",
    "    if guess < correct_guess:\n",
    "        if tries < trials:\n",
    "            print(f\"{guess} is too low!\")\n",
    "        else:\n",
    "            print(f\" No attempts left, {trials} trials as chosen have been exhausted\")\n",
    "    \n",
    "    elif guess > correct_guess:\n",
    "         if tries < trials:\n",
    "            print(f\"{guess} is to high!\")\n",
    "         else:\n",
    "            print(f\" No attempts left, {trials} trials as chosen have been exhausted\")\n",
    "    \n",
    "    else:\n",
    "        print(f\"Congratulation! {guess} is the right guess! with {tries} tries out of {trials}\")\n",
    "        break"
   ]
  },
  {
   "cell_type": "code",
   "execution_count": null,
   "id": "ebc0f5cb-befb-4b56-81de-9182baa62873",
   "metadata": {},
   "outputs": [],
   "source": []
  }
 ],
 "metadata": {
  "kernelspec": {
   "display_name": "Python 3 (ipykernel)",
   "language": "python",
   "name": "python3"
  },
  "language_info": {
   "codemirror_mode": {
    "name": "ipython",
    "version": 3
   },
   "file_extension": ".py",
   "mimetype": "text/x-python",
   "name": "python",
   "nbconvert_exporter": "python",
   "pygments_lexer": "ipython3",
   "version": "3.11.7"
  }
 },
 "nbformat": 4,
 "nbformat_minor": 5
}
